{
 "cells": [
  {
   "cell_type": "code",
   "execution_count": 1,
   "metadata": {},
   "outputs": [],
   "source": [
    "from src import *\n"
   ]
  },
  {
   "cell_type": "code",
   "execution_count": 2,
   "metadata": {},
   "outputs": [],
   "source": [
    "db = Database()"
   ]
  },
  {
   "cell_type": "code",
   "execution_count": null,
   "metadata": {},
   "outputs": [],
   "source": [
    "db"
   ]
  },
  {
   "cell_type": "code",
   "execution_count": 3,
   "metadata": {},
   "outputs": [],
   "source": [
    "db.connect()"
   ]
  },
  {
   "cell_type": "code",
   "execution_count": null,
   "metadata": {},
   "outputs": [],
   "source": [
    "result = create_table(db.conn,db.cursor,EMPLOYEE)"
   ]
  },
  {
   "cell_type": "code",
   "execution_count": null,
   "metadata": {},
   "outputs": [],
   "source": [
    "result = delete_table(db.conn,db.cursor,\"employee\")"
   ]
  },
  {
   "cell_type": "code",
   "execution_count": null,
   "metadata": {},
   "outputs": [],
   "source": [
    "result"
   ]
  },
  {
   "cell_type": "code",
   "execution_count": null,
   "metadata": {},
   "outputs": [],
   "source": [
    "result = insert_value(db.conn,db.cursor,\"employee\",(555666777,\"Eleonora Arilda Penedo Gomes de Padilha\",\"Fem\",34,\"pardo\",\"Ensino Médio\",\"Santa Catarina\",12.0,\"Compras\",\"Analista Pleno\",22.0))"
   ]
  },
  {
   "cell_type": "code",
   "execution_count": null,
   "metadata": {},
   "outputs": [],
   "source": [
    "result"
   ]
  },
  {
   "cell_type": "code",
   "execution_count": null,
   "metadata": {},
   "outputs": [],
   "source": [
    "remove_value(db.conn,db.cursor,\"employee\", \"age < 18\")"
   ]
  },
  {
   "cell_type": "code",
   "execution_count": 5,
   "metadata": {},
   "outputs": [],
   "source": []
  },
  {
   "cell_type": "code",
   "execution_count": null,
   "metadata": {},
   "outputs": [],
   "source": [
    "def remove_nan_records(conn, cursor, table, columns):\n",
    "    # Construa a consulta SQL para remover registros com valores NaN\n",
    "    remove_nan_query = \"\"\"\n",
    "        DELETE FROM {}\n",
    "        WHERE True IN (\n",
    "            {}\n",
    "        );\n",
    "    \"\"\"\n",
    "\n",
    "    # Construa a parte da consulta que verifica se qualquer coluna contém NaN\n",
    "    nan_checks = []\n",
    "    for column in columns:\n",
    "        nan_checks.append(f\" {column} IS NULL OR {column} = 'NaN' \")\n",
    "\n",
    "    # Substitua {} na consulta SQL pelo nome da tabela\n",
    "    remove_nan_query = remove_nan_query.format(table, \" OR \".join(nan_checks))\n",
    "\n",
    "    # Execute a consulta SQL\n",
    "    cursor.execute(remove_nan_query)\n",
    "\n",
    "    # Faça commit para confirmar as alterações\n",
    "    conn.commit()"
   ]
  },
  {
   "cell_type": "code",
   "execution_count": null,
   "metadata": {},
   "outputs": [],
   "source": [
    "remove_nan_records(db.conn,db.cursor,\"employee\",[\"time\",\"entry_age\"])"
   ]
  },
  {
   "cell_type": "markdown",
   "metadata": {},
   "source": [
    "# VALOR INICIAL -> 9879\n",
    "# APÓS REMOÇÃO < 18 -> 9873\n",
    "# APÓS REMOÇÃO DE VALORES NaN -> 9674"
   ]
  },
  {
   "cell_type": "code",
   "execution_count": 6,
   "metadata": {},
   "outputs": [
    {
     "data": {
      "text/plain": [
       "9674"
      ]
     },
     "execution_count": 6,
     "metadata": {},
     "output_type": "execute_result"
    }
   ],
   "source": [
    "count_values(db.conn,db.cursor,\"employee\")"
   ]
  },
  {
   "cell_type": "code",
   "execution_count": null,
   "metadata": {},
   "outputs": [],
   "source": [
    "db.disconnect()"
   ]
  },
  {
   "cell_type": "code",
   "execution_count": null,
   "metadata": {},
   "outputs": [],
   "source": [
    "type(db.conn)"
   ]
  }
 ],
 "metadata": {
  "kernelspec": {
   "display_name": ".venv",
   "language": "python",
   "name": "python3"
  },
  "language_info": {
   "codemirror_mode": {
    "name": "ipython",
    "version": 3
   },
   "file_extension": ".py",
   "mimetype": "text/x-python",
   "name": "python",
   "nbconvert_exporter": "python",
   "pygments_lexer": "ipython3",
   "version": "3.12.2"
  }
 },
 "nbformat": 4,
 "nbformat_minor": 2
}
