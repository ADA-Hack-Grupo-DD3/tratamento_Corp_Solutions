{
 "cells": [
  {
   "cell_type": "markdown",
   "metadata": {},
   "source": [
    "# Importação das Funcionalidades Necessárias para Enviar O Resultado do ETL Básico para o Banco de Dados"
   ]
  },
  {
   "cell_type": "code",
   "execution_count": null,
   "metadata": {},
   "outputs": [],
   "source": [
    "from src import *\n",
    "from os.path import join\n",
    "from pandas import read_csv"
   ]
  },
  {
   "cell_type": "markdown",
   "metadata": {},
   "source": [
    "# Conectando ao Banco de Dados em Nuvem"
   ]
  },
  {
   "cell_type": "code",
   "execution_count": null,
   "metadata": {},
   "outputs": [],
   "source": [
    "db = Database()\n",
    "db.connect()"
   ]
  },
  {
   "cell_type": "markdown",
   "metadata": {},
   "source": [
    "# Carregando o Arquivo csv no DataFrame Pandas"
   ]
  },
  {
   "cell_type": "code",
   "execution_count": null,
   "metadata": {},
   "outputs": [],
   "source": [
    "df = read_csv(join(\"Data_Base\",\"Dados_filtrados\",\"base_dados_filtrados.csv\"))"
   ]
  },
  {
   "cell_type": "markdown",
   "metadata": {},
   "source": [
    "# Visualização Prévia dos Dados"
   ]
  },
  {
   "cell_type": "code",
   "execution_count": null,
   "metadata": {},
   "outputs": [],
   "source": [
    "df"
   ]
  },
  {
   "cell_type": "markdown",
   "metadata": {},
   "source": [
    "# Percorrendo Cada Registro do csv e Adicionando-os ao Banco de Dados"
   ]
  },
  {
   "cell_type": "code",
   "execution_count": null,
   "metadata": {},
   "outputs": [],
   "source": [
    "for _,row in df.iterrows():\n",
    "    insert_value(\n",
    "                    db.conn,\n",
    "                    db.cursor,\n",
    "                    \"employee\",\n",
    "                    (\n",
    "                    int(row[\"id\"]),\n",
    "                    row[\"Nome\"],\n",
    "                    row[\"Genero\"],\n",
    "                    row[\"Idade\"], \n",
    "                    row[\"Raça\"], \n",
    "                    row[\"Formação\"], \n",
    "                    row[\"Estado\"], \n",
    "                    float(row[\"Tempo de casa\"]), \n",
    "                    row[\"Departamento\"], \n",
    "                    row[\"Senioridade\"],\n",
    "                    float(row[\"Idade Ingresso\"])\n",
    "                    )\n",
    "                )"
   ]
  }
 ],
 "metadata": {
  "kernelspec": {
   "display_name": ".venv",
   "language": "python",
   "name": "python3"
  },
  "language_info": {
   "codemirror_mode": {
    "name": "ipython",
    "version": 3
   },
   "file_extension": ".py",
   "mimetype": "text/x-python",
   "name": "python",
   "nbconvert_exporter": "python",
   "pygments_lexer": "ipython3",
   "version": "3.12.2"
  }
 },
 "nbformat": 4,
 "nbformat_minor": 2
}
